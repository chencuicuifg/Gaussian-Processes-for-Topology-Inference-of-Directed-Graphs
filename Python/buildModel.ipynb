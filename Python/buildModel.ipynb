{
 "cells": [
  {
   "cell_type": "code",
   "execution_count": null,
   "id": "bbeb624e-4cb5-4b3f-8fae-2240d4f1ee80",
   "metadata": {},
   "outputs": [],
   "source": [
    "import math\n",
    "import torch\n",
    "import gpytorch \n",
    "\n",
    "class ExactGPmodel(gpytorch.models.ExactGP):\n",
    "    def __init__(self, train_x, train_y,likelihood):\n",
    "        super(ExactGPmodel, self).__init__(train_x, train_y,likelihood)\n",
    "        num_features = train_x.size(1)\n",
    "        self.mean_module = gpytorch.means.ZeroMean()\n",
    "        self.covar_module = gpytorch.kernels.ScaleKernel(gpytorch.kernels.RBFKernel(ard_num_dims=num_features))\n",
    "\n",
    "        \n",
    "    def forward(self,x):\n",
    "        mean_x = self.mean_module(x)\n",
    "        covar_x = self.covar_module(x)\n",
    "        return gpytorch.distributions.MultivariateNormal(mean_x, covar_x)\n",
    "        \n",
    "def buildModel(Xtrain,ytrain,ini=None):\n",
    "    # number of features and number of training pairs\n",
    "    [numData,numFeatures] = Xtrain.size()\n",
    "    N = ytrain.size()[1]\n",
    "    \n",
    "    # initialize likelihood and model\n",
    "    likelihoods = []\n",
    "    models = []\n",
    "\n",
    "    # instancelize likelihood and model\n",
    "    for n in range(N):\n",
    "        likelihood = gpytorch.likelihoods.GaussianLikelihood()\n",
    "        likelihood.noise_covar.noise = ytrain[:,n].std()\n",
    "        \n",
    "        model = ExactGPmodel(Xtrain, ytrain[:,n], likelihood) \n",
    "        if ini is None:\n",
    "            ini = torch.abs(0*torch.randn([1,numFeatures])+10)\n",
    "        model.covar_module.base_kernel.lengthscale = ini\n",
    "        model.covar_module.outputscale = ytrain[:,n].std()\n",
    "        \n",
    "        likelihoods.append(likelihood)\n",
    "        models.append(model)\n",
    "        \n",
    "    return likelihoods, models"
   ]
  }
 ],
 "metadata": {
  "kernelspec": {
   "display_name": "Python 3 (ipykernel)",
   "language": "python",
   "name": "python3"
  },
  "language_info": {
   "codemirror_mode": {
    "name": "ipython",
    "version": 3
   },
   "file_extension": ".py",
   "mimetype": "text/x-python",
   "name": "python",
   "nbconvert_exporter": "python",
   "pygments_lexer": "ipython3",
   "version": "3.9.6"
  }
 },
 "nbformat": 4,
 "nbformat_minor": 5
}
