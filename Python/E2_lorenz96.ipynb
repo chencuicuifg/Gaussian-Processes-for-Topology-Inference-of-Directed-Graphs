{
 "cells": [
  {
   "cell_type": "code",
   "execution_count": 1,
   "id": "75c0b98b-f7ba-42a1-9fcf-729ae12cca28",
   "metadata": {},
   "outputs": [],
   "source": [
    "import numpy as np\n",
    "from scipy.integrate import solve_ivp\n",
    "import matplotlib.pyplot as plt\n",
    "import torch"
   ]
  },
  {
   "cell_type": "code",
   "execution_count": 2,
   "id": "8af56b78-0b46-4070-af55-be62550db62e",
   "metadata": {},
   "outputs": [],
   "source": [
    "def lorenz96ODE(t, x, F):\n",
    "    N = len(x)\n",
    "    # create dx/dt\n",
    "    dxdt = np.zeros(N)\n",
    "    # 计算每一个dx/dt\n",
    "    for n in range(N):\n",
    "        dxdt[n] = (x[(n+1) % N] - x[n-2]) * x[n-1] - x[n] + F\n",
    "    return dxdt"
   ]
  },
  {
   "cell_type": "code",
   "execution_count": 3,
   "id": "abccc3c5-8f4e-4bee-91ee-6da7c34e0a6d",
   "metadata": {},
   "outputs": [],
   "source": [
    "def lorenz96(N=10,T=15,step =0.015):\n",
    "    F = 8.0  # common used parameter defaul in the function is 8\n",
    "    x0 = F*np.ones(N) # initial the initial value as \n",
    "    x0[0] = x0[0]+0.01\n",
    "    t_span = (0, T)  # 时间范围，从0到2\n",
    "    sol = solve_ivp(lorenz96ODE, t_span, x0, args = (F,), dense_output=True)\n",
    "    t= np.arange(t_span[0], t_span[1], step)\n",
    "    y = sol.sol(t)\n",
    "    return torch.transpose(torch.from_numpy(y),1,0)"
   ]
  }
 ],
 "metadata": {
  "kernelspec": {
   "display_name": "Python 3 (ipykernel)",
   "language": "python",
   "name": "python3"
  },
  "language_info": {
   "codemirror_mode": {
    "name": "ipython",
    "version": 3
   },
   "file_extension": ".py",
   "mimetype": "text/x-python",
   "name": "python",
   "nbconvert_exporter": "python",
   "pygments_lexer": "ipython3",
   "version": "3.9.6"
  }
 },
 "nbformat": 4,
 "nbformat_minor": 5
}
