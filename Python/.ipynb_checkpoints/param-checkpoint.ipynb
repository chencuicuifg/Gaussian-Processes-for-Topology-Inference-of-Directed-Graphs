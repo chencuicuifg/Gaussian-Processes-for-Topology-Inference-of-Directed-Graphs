{
 "cells": [
  {
   "cell_type": "code",
   "execution_count": null,
   "id": "08a2f091-ae7d-45ca-8951-899efe1aa267",
   "metadata": {},
   "outputs": [],
   "source": [
    "param = {\n",
    "    \"training_iter\": 100,  # int: Number of iterations for the training process.\n",
    "    \"learning_rate\": 0.01,  # float: Initial learning rate for the L-BFGS optimizer.\n",
    "    \"ifPrint\": True,  # bool: Flag to enable/disable printing of the optimization process.\n",
    "    \"numPrint\": 20,  # int: Frequency of print statements in terms of number of iterations.\n",
    "    \"logScale\": True,  # bool: Determines if the weights should be returned in log scale.\n",
    "    \"tolerance_grad\": 1e-6,  # float: Tolerance for the gradient changes to determine convergence in the optimization process.\n",
    "}\n"
   ]
  }
 ],
 "metadata": {
  "kernelspec": {
   "display_name": "Python 3 (ipykernel)",
   "language": "python",
   "name": "python3"
  },
  "language_info": {
   "codemirror_mode": {
    "name": "ipython",
    "version": 3
   },
   "file_extension": ".py",
   "mimetype": "text/x-python",
   "name": "python",
   "nbconvert_exporter": "python",
   "pygments_lexer": "ipython3",
   "version": "3.9.6"
  }
 },
 "nbformat": 4,
 "nbformat_minor": 5
}
