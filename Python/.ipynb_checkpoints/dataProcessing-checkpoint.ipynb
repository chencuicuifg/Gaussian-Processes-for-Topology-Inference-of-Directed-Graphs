{
 "cells": [
  {
   "cell_type": "code",
   "execution_count": null,
   "id": "d76fa984-d785-4f10-8b28-036690f5f445",
   "metadata": {},
   "outputs": [],
   "source": [
    "import torch\n",
    "\n",
    "def dataProcessing(X,P,scale = True):\n",
    "    [T,N] = X.size()\n",
    "    # scala the data max=1, min=-1\n",
    "    if scale is True:\n",
    "        X = 2*(X-torch.min(X))/(torch.max(X)-torch.min(X))-1\n",
    "    else:\n",
    "        pass\n",
    "        \n",
    "    # segement for each lag\n",
    "    parts = []\n",
    "    for p in range(P):\n",
    "        part = X[p:T-P+p,:]\n",
    "        parts.append(part)\n",
    "    Xtrain = torch.cat(parts,dim=0).double()\n",
    "    ytrain = X[P:T,:].double()\n",
    "\n",
    "    return Xtrain.double(),ytrain.double()"
   ]
  }
 ],
 "metadata": {
  "kernelspec": {
   "display_name": "Python 3 (ipykernel)",
   "language": "python",
   "name": "python3"
  },
  "language_info": {
   "codemirror_mode": {
    "name": "ipython",
    "version": 3
   },
   "file_extension": ".py",
   "mimetype": "text/x-python",
   "name": "python",
   "nbconvert_exporter": "python",
   "pygments_lexer": "ipython3",
   "version": "3.9.6"
  }
 },
 "nbformat": 4,
 "nbformat_minor": 5
}
