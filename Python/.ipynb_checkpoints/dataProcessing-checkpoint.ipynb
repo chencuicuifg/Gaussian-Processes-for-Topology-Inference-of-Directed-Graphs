{
 "cells": [
  {
   "cell_type": "code",
   "execution_count": null,
   "id": "d76fa984-d785-4f10-8b28-036690f5f445",
   "metadata": {},
   "outputs": [],
   "source": [
    "import torch\n",
    "\n",
    "def dataProcessing(X,P,scale = True):\n",
    "    \"\"\"\n",
    "    Processes data by scaling it and creating segments based on lag.\n",
    "\n",
    "    Args:\n",
    "        X (Tensor): The input data tensor, expected to have dimensions [T, N] \n",
    "                    where T is the time dimension and N is the number of features.\n",
    "        P (int): The number of lags to use for creating lagged data segments.\n",
    "        scale (bool, optional): If True, scales the data to have a max of 1 and min of -1. Defaults to True.\n",
    "\n",
    "    Returns:\n",
    "        tuple: A tuple containing:\n",
    "            - Xtrain (Tensor): The training data constructed by stacking lagged parts of X.\n",
    "            - ytrain (Tensor): The target data for training, which are the actual values following the lags.\n",
    "    \"\"\"\n",
    "    # Get the dimensions of the input data\n",
    "    [T,N] = X.size()\n",
    "     # Scale the data to range [-1, 1] if scaling is enabled\n",
    "    if scale is True:\n",
    "        X = 2*(X-torch.min(X))/(torch.max(X)-torch.min(X))-1\n",
    "    else:\n",
    "        pass\n",
    "        \n",
    "    # # Prepare to collect parts for each lag\n",
    "    parts = []\n",
    "    for p in range(P):\n",
    "        # Extract the segment of data corresponding to the current lag\n",
    "        part = X[p:T-P+p,:]\n",
    "        parts.append(part)\n",
    "    # Concatenate all parts along the time dimension to create training data\n",
    "    Xtrain = torch.cat(parts,dim=0).double()\n",
    "    # The target training data are the actual values that immediately follow the last lagged part\n",
    "    ytrain = X[P:T,:].double()\n",
    "\n",
    "    return Xtrain.double(),ytrain.double()"
   ]
  }
 ],
 "metadata": {
  "kernelspec": {
   "display_name": "Python 3 (ipykernel)",
   "language": "python",
   "name": "python3"
  },
  "language_info": {
   "codemirror_mode": {
    "name": "ipython",
    "version": 3
   },
   "file_extension": ".py",
   "mimetype": "text/x-python",
   "name": "python",
   "nbconvert_exporter": "python",
   "pygments_lexer": "ipython3",
   "version": "3.9.6"
  }
 },
 "nbformat": 4,
 "nbformat_minor": 5
}
