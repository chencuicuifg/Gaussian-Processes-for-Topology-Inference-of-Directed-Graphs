{
 "cells": [
  {
   "cell_type": "code",
   "execution_count": 1,
   "id": "72bfc565-b38d-448c-a868-bc3d501ec1f6",
   "metadata": {},
   "outputs": [],
   "source": [
    "import import_ipynb\n",
    "import torch\n",
    "import gpytorch \n",
    "import math\n",
    "import copy "
   ]
  },
  {
   "cell_type": "code",
   "execution_count": 2,
   "id": "e2ae2950-7ca3-4bf7-8d29-429905b8a87f",
   "metadata": {},
   "outputs": [],
   "source": [
    "def optimization(llh,model,Xtrain,ytrain,tolerance_grad,training_iter = 200, learning_rate=0.01,numPrint = 100,ifPrint = True):\n",
    "    optimizer = torch.optim.LBFGS(model.parameters(),lr = learning_rate, history_size=15,line_search_fn='strong_wolfe',tolerance_grad=tolerance_grad)\n",
    "    \n",
    "    #marginal likelihood\n",
    "    mll = gpytorch.mlls.ExactMarginalLogLikelihood(llh,model)\n",
    "\n",
    "    for i in range(training_iter):\n",
    "        def closure():\n",
    "            optimizer.zero_grad()\n",
    "            output = model(Xtrain)\n",
    "            loss = -mll(output, ytrain)\n",
    "            loss.backward()\n",
    "            return loss\n",
    "        optimizer.step(closure)\n",
    "        loss = optimizer.step(closure)\n",
    "        if ifPrint is True:\n",
    "            if (i+1) % numPrint == 0:\n",
    "                log_message = 'Iter %d/%d loss: %.3f' % (i + 1, training_iter, loss.item())\n",
    "                lengthscale_values = model.covar_module.base_kernel.lengthscale[0]   \n",
    "                for idx, lengthscale in enumerate(lengthscale_values):\n",
    "                    log_message += ' W%d: %.3f' % (idx + 1, math.log(1 / lengthscale.item()))\n",
    "                noise_value = model.likelihood.noise.item()\n",
    "                log_message += ' noise: %.4f' % noise_value\n",
    "                print(log_message)\n",
    "    w = torch.log(1/model.covar_module.base_kernel.lengthscale[0])\n",
    "    return w\n",
    "                "
   ]
  },
  {
   "cell_type": "code",
   "execution_count": 3,
   "id": "adea2c4d-4b65-4ac6-900d-e81db93509bc",
   "metadata": {},
   "outputs": [],
   "source": [
    "\n",
    "def Inference(Xtrain,Ytrain,likelihoods,models, training_iter=200,learning_rate= 0.01,ifPrint = True,numPrint = 20):\n",
    "    N = len(likelihoods) # number of dimension\n",
    "    W = torch.zeros(N,N) # create the weighted adjacency matrix W\n",
    "\n",
    "    likelihoods_backup_for_error = copy.deepcopy(likelihoods)\n",
    "    models_backup_for_error = copy.deepcopy(models)\n",
    "    \n",
    "    for n in range(N):\n",
    "        print(\"processing for nodes\" + str(n+1))\n",
    "        tolerance_grad = 1e-4\n",
    "        # target variable for each node\n",
    "        ytrain = Ytrain[:,n]\n",
    "        while True:\n",
    "            try:\n",
    "                # model for each nodes\n",
    "                llh = likelihoods[n]\n",
    "                model = models[n]\n",
    "        \n",
    "                # in training mode\n",
    "                model.train()\n",
    "                llh.train()\n",
    "                \n",
    "                # optimization\n",
    "                print(\"************ \" + str(tolerance_grad) + \"*******\")\n",
    "                w = optimization(llh,model,Xtrain,ytrain,tolerance_grad)\n",
    "                break\n",
    "            except Exception as e:\n",
    "                if tolerance_grad<1:\n",
    "                    tolerance_grad = 10*tolerance_grad\n",
    "                    print(\"tolerance of gradient is \"+ str(tolerance_grad))\n",
    "                else:\n",
    "                    print(\"Failed for optimization after increasing the tolerance of gradient\")\n",
    "                    break                    \n",
    "        W[n,:] = w\n",
    "    return W"
   ]
  }
 ],
 "metadata": {
  "kernelspec": {
   "display_name": "Python 3 (ipykernel)",
   "language": "python",
   "name": "python3"
  },
  "language_info": {
   "codemirror_mode": {
    "name": "ipython",
    "version": 3
   },
   "file_extension": ".py",
   "mimetype": "text/x-python",
   "name": "python",
   "nbconvert_exporter": "python",
   "pygments_lexer": "ipython3",
   "version": "3.9.6"
  }
 },
 "nbformat": 4,
 "nbformat_minor": 5
}
