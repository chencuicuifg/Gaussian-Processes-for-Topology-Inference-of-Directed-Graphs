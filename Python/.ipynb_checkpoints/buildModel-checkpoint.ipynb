{
 "cells": [
  {
   "cell_type": "code",
   "execution_count": null,
   "id": "bbeb624e-4cb5-4b3f-8fae-2240d4f1ee80",
   "metadata": {},
   "outputs": [],
   "source": [
    "import math\n",
    "import torch\n",
    "import gpytorch "
   ]
  },
  {
   "cell_type": "code",
   "execution_count": null,
   "id": "065657e8-24af-4ed1-ba38-f1065b35f8a8",
   "metadata": {},
   "outputs": [],
   "source": [
    "\n",
    "class ExactGPmodel(gpytorch.models.ExactGP):\n",
    "    \"\"\"\n",
    "    A Gaussian Process model for regression tasks using an RBF kernel with Automatic Relevance Determination (ARD).\n",
    "    \n",
    "    This model is intended for scenarios where each node may have a different impact on the studeied node, and thus,\n",
    "    requires a distinct length scale parameter. The use of ARD allows the model to learn the relevance of each node\n",
    "    independently, which can be critical for high-dimensional data or data where features vary in their importance.\n",
    "    \n",
    "    Parameters:\n",
    "    - train_x (torch.Tensor): The training inputs, expected to be a tensor of shape (T, D),\n",
    "                              where 'T' is the number of training points and 'D' is the number of features.\n",
    "                              NOTE: in the current implemention, D = number of nodes N X maximum considered delay \\Lambda\n",
    "    - train_y (torch.Tensor): The training outputs, expected to be a tensor of shape (T,),\n",
    "                              where 'T' is the number of training points.\n",
    "    - likelihood (gpytorch.likelihoods.Likelihood): The likelihood model to use for inference.\n",
    "                                                    This is typically GaussianLikelihood for regression tasks.\n",
    "    \"\"\"\n",
    "    def __init__(self, train_x, train_y,likelihood):\n",
    "        super(ExactGPmodel, self).__init__(train_x, train_y,likelihood)\n",
    "        num_features = train_x.size(1)\n",
    "        self.mean_module = gpytorch.means.ZeroMean()\n",
    "        self.covar_module = gpytorch.kernels.ScaleKernel(gpytorch.kernels.RBFKernel(ard_num_dims=num_features))\n",
    "\n",
    "        \n",
    "    def forward(self,x):\n",
    "        \"\"\"\n",
    "        The forward pass to compute the multivariate normal distribution over the targets given inputs.\n",
    "        \n",
    "        Parameters:\n",
    "        - x (torch.Tensor): Input features tensor of shape (T, D).\n",
    "        \n",
    "        Returns:\n",
    "        - gpytorch.distributions.MultivariateNormal: The computed Gaussian Process prior distribution over the outputs given the inputs.\n",
    "        \"\"\"\n",
    "        mean_x = self.mean_module(x)\n",
    "        covar_x = self.covar_module(x)\n",
    "        return gpytorch.distributions.MultivariateNormal(mean_x, covar_x)"
   ]
  }
 ],
 "metadata": {
  "kernelspec": {
   "display_name": "Python 3 (ipykernel)",
   "language": "python",
   "name": "python3"
  },
  "language_info": {
   "codemirror_mode": {
    "name": "ipython",
    "version": 3
   },
   "file_extension": ".py",
   "mimetype": "text/x-python",
   "name": "python",
   "nbconvert_exporter": "python",
   "pygments_lexer": "ipython3",
   "version": "3.9.6"
  }
 },
 "nbformat": 4,
 "nbformat_minor": 5
}
