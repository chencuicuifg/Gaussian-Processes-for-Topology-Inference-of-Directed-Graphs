{
 "cells": [
  {
   "cell_type": "code",
   "execution_count": 1,
   "id": "6333de95-2e58-48e6-8b66-bc74abfd525c",
   "metadata": {},
   "outputs": [
    {
     "name": "stdout",
     "output_type": "stream",
     "text": [
      "importing Jupyter notebook from param.ipynb\n"
     ]
    }
   ],
   "source": [
    "import math\n",
    "import torch\n",
    "import gpytorch \n",
    "import import_ipynb\n",
    "from matplotlib import pyplot as plt\n",
    "from param import param"
   ]
  },
  {
   "cell_type": "code",
   "execution_count": 2,
   "id": "7bd05266-fa3e-4855-bd78-5b8f660ba94b",
   "metadata": {},
   "outputs": [
    {
     "name": "stdout",
     "output_type": "stream",
     "text": [
      "importing Jupyter notebook from E2_lorenz96.ipynb\n"
     ]
    }
   ],
   "source": [
    "from E2_lorenz96 import lorenz96\n",
    "X = lorenz96(N=20,T=7)"
   ]
  },
  {
   "cell_type": "code",
   "execution_count": 3,
   "id": "4faa9fb4-81da-4c0c-b3d2-3278dab26462",
   "metadata": {},
   "outputs": [
    {
     "name": "stdout",
     "output_type": "stream",
     "text": [
      "importing Jupyter notebook from dataProcessing.ipynb\n"
     ]
    }
   ],
   "source": [
    "from dataProcessing import dataProcessing\n",
    "[Xtrain,ytrain] = dataProcessing(X,1)"
   ]
  },
  {
   "cell_type": "code",
   "execution_count": 4,
   "id": "55665b90-7e0b-47b0-9260-70c346d42ef9",
   "metadata": {
    "scrolled": true
   },
   "outputs": [
    {
     "name": "stdout",
     "output_type": "stream",
     "text": [
      "importing Jupyter notebook from Inference.ipynb\n",
      "importing Jupyter notebook from buildModel.ipynb\n",
      "processing for nodes1\n",
      "optimization() takes 4 positional arguments but 5 were given\n",
      "************************************************************\n",
      "tolerance of gradient is 9.999999999999999e-06\n",
      "#######################################################\n",
      "optimization() takes 4 positional arguments but 5 were given\n",
      "************************************************************\n",
      "tolerance of gradient is 9.999999999999999e-05\n",
      "#######################################################\n",
      "optimization() takes 4 positional arguments but 5 were given\n",
      "************************************************************\n",
      "tolerance of gradient is 0.001\n",
      "#######################################################\n",
      "optimization() takes 4 positional arguments but 5 were given\n",
      "************************************************************\n",
      "tolerance of gradient is 0.01\n",
      "#######################################################\n",
      "optimization() takes 4 positional arguments but 5 were given\n",
      "************************************************************\n",
      "tolerance of gradient is 0.1\n",
      "#######################################################\n",
      "optimization() takes 4 positional arguments but 5 were given\n",
      "************************************************************\n",
      "tolerance of gradient is 1.0\n",
      "#######################################################\n",
      "optimization() takes 4 positional arguments but 5 were given\n",
      "Failed for optimization after increasing the tolerance of gradient\n"
     ]
    },
    {
     "ename": "UnboundLocalError",
     "evalue": "local variable 'w' referenced before assignment",
     "output_type": "error",
     "traceback": [
      "\u001b[0;31m---------------------------------------------------------------------------\u001b[0m",
      "\u001b[0;31mUnboundLocalError\u001b[0m                         Traceback (most recent call last)",
      "Cell \u001b[0;32mIn[4], line 3\u001b[0m\n\u001b[1;32m      1\u001b[0m \u001b[38;5;28;01mfrom\u001b[39;00m \u001b[38;5;21;01mInference\u001b[39;00m \u001b[38;5;28;01mimport\u001b[39;00m Inference \n\u001b[1;32m      2\u001b[0m \u001b[38;5;66;03m#W = Inference(Xtrain,ytrain, training_iter=400,learning_rate= 0.01,ifPrint = True,numPrint=100)\u001b[39;00m\n\u001b[0;32m----> 3\u001b[0m W \u001b[38;5;241m=\u001b[39m \u001b[43mInference\u001b[49m\u001b[43m(\u001b[49m\u001b[43mXtrain\u001b[49m\u001b[43m,\u001b[49m\u001b[43mytrain\u001b[49m\u001b[43m,\u001b[49m\u001b[43mparam\u001b[49m\u001b[43m)\u001b[49m\n",
      "File \u001b[0;32m<string>:46\u001b[0m, in \u001b[0;36mInference\u001b[0;34m(Xtrain, Ytrain, param)\u001b[0m\n",
      "\u001b[0;31mUnboundLocalError\u001b[0m: local variable 'w' referenced before assignment"
     ]
    }
   ],
   "source": [
    "from Inference import Inference \n",
    "W = Inference(Xtrain,ytrain, training_iter=400,learning_rate= 0.01,ifPrint = True,numPrint=100)\n"
   ]
  },
  {
   "cell_type": "code",
   "execution_count": null,
   "id": "5bf17ae7-48fd-4f1f-b43d-cad09bb63de2",
   "metadata": {},
   "outputs": [],
   "source": [
    "import seaborn as sns\n",
    "sns.heatmap(W.detach().numpy(), annot=False, fmt=\".1f\", cmap='Blues')"
   ]
  },
  {
   "cell_type": "code",
   "execution_count": null,
   "id": "130ed684-42db-44c5-94b3-e416315386ef",
   "metadata": {},
   "outputs": [],
   "source": [
    "A = torch.zeros(W.size())\n",
    "A = W\n",
    "A = torch.where(A<-4,torch.zeros_like(A),A)\n",
    "sns.heatmap(A.detach().numpy(), annot=False, fmt=\".1f\", cmap='Blues')"
   ]
  },
  {
   "cell_type": "code",
   "execution_count": null,
   "id": "ccecd43d-63cc-44de-b972-0897bdee5173",
   "metadata": {},
   "outputs": [],
   "source": []
  }
 ],
 "metadata": {
  "kernelspec": {
   "display_name": "Python 3 (ipykernel)",
   "language": "python",
   "name": "python3"
  },
  "language_info": {
   "codemirror_mode": {
    "name": "ipython",
    "version": 3
   },
   "file_extension": ".py",
   "mimetype": "text/x-python",
   "name": "python",
   "nbconvert_exporter": "python",
   "pygments_lexer": "ipython3",
   "version": "3.9.6"
  }
 },
 "nbformat": 4,
 "nbformat_minor": 5
}
