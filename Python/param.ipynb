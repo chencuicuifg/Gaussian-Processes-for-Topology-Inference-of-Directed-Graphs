{
 "cells": [
  {
   "cell_type": "code",
   "execution_count": null,
   "id": "08a2f091-ae7d-45ca-8951-899efe1aa267",
   "metadata": {},
   "outputs": [],
   "source": [
    "param = {\n",
    "    \"training_iter\":200,\n",
    "    \"learning_rate\": 0.01,\n",
    "    \"ifPrint\": True,\n",
    "    \"numPrint\": 100,\n",
    "    \"logScale\": True,\n",
    "    \"tolerance_grad\":1e-6\n",
    "}"
   ]
  }
 ],
 "metadata": {
  "kernelspec": {
   "display_name": "Python 3 (ipykernel)",
   "language": "python",
   "name": "python3"
  },
  "language_info": {
   "codemirror_mode": {
    "name": "ipython",
    "version": 3
   },
   "file_extension": ".py",
   "mimetype": "text/x-python",
   "name": "python",
   "nbconvert_exporter": "python",
   "pygments_lexer": "ipython3",
   "version": "3.9.6"
  }
 },
 "nbformat": 4,
 "nbformat_minor": 5
}
