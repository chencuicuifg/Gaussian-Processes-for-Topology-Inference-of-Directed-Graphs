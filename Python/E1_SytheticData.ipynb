{
 "cells": [
  {
   "cell_type": "code",
   "execution_count": null,
   "id": "1ec02758-3465-4ab6-bbdd-c240f0f653d5",
   "metadata": {},
   "outputs": [],
   "source": [
    "import torch\n",
    "\n",
    "def LorenzAttractor(T,sigma):\n",
    "    x = torch.zeros(T,3).double()\n",
    "    x[0,0] = 0.01\n",
    "    x[0,1] = 0.01\n",
    "    x[0,2] = 0.01\n",
    "    for t in range(1,T):\n",
    "        x[t,0] = x[t-1,0] + 0.01*10*(x[t-1,1]-x[t-1,0]) + sigma*torch.randn(1)\n",
    "        x[t,1] = x[t-1,1] + 0.01*(x[t-1,0]*(28-x[t-1,2])-x[t-1,0]) + sigma*torch.randn(1)\n",
    "        x[t,2] = x[t-1,2] + 0.01*(x[t-1,0]*x[t-1,1]-8/3*x[t-1,2]) + sigma*torch.randn(1)\n",
    "    return x\n",
    "    "
   ]
  }
 ],
 "metadata": {
  "kernelspec": {
   "display_name": "Python 3 (ipykernel)",
   "language": "python",
   "name": "python3"
  },
  "language_info": {
   "codemirror_mode": {
    "name": "ipython",
    "version": 3
   },
   "file_extension": ".py",
   "mimetype": "text/x-python",
   "name": "python",
   "nbconvert_exporter": "python",
   "pygments_lexer": "ipython3",
   "version": "3.9.6"
  }
 },
 "nbformat": 4,
 "nbformat_minor": 5
}
